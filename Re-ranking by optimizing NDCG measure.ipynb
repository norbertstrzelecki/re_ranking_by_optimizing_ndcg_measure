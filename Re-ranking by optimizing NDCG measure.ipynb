{
 "cells": [
  {
   "cell_type": "markdown",
   "metadata": {
    "toc": true
   },
   "source": [
    "<h1>Table of Contents<span class=\"tocSkip\"></span></h1>\n",
    "<div class=\"toc\"><ul class=\"toc-item\"><li><span><a href=\"#Task\" data-toc-modified-id=\"Task-1\"><span class=\"toc-item-num\">1&nbsp;&nbsp;</span>Task</a></span></li><li><span><a href=\"#Approach\" data-toc-modified-id=\"Approach-2\"><span class=\"toc-item-num\">2&nbsp;&nbsp;</span>Approach</a></span></li><li><span><a href=\"#Research\" data-toc-modified-id=\"Research-3\"><span class=\"toc-item-num\">3&nbsp;&nbsp;</span>Research</a></span><ul class=\"toc-item\"><li><span><a href=\"#Definitions\" data-toc-modified-id=\"Definitions-3.1\"><span class=\"toc-item-num\">3.1&nbsp;&nbsp;</span>Definitions</a></span><ul class=\"toc-item\"><li><span><a href=\"#Learning-to-Rank-methods-overview\" data-toc-modified-id=\"Learning-to-Rank-methods-overview-3.1.1\"><span class=\"toc-item-num\">3.1.1&nbsp;&nbsp;</span>Learning-to-Rank methods overview</a></span></li><li><span><a href=\"#NDCG-measure\" data-toc-modified-id=\"NDCG-measure-3.1.2\"><span class=\"toc-item-num\">3.1.2&nbsp;&nbsp;</span>NDCG measure</a></span></li></ul></li><li><span><a href=\"#Initial-findings\" data-toc-modified-id=\"Initial-findings-3.2\"><span class=\"toc-item-num\">3.2&nbsp;&nbsp;</span>Initial findings</a></span><ul class=\"toc-item\"><li><span><a href=\"#Overall-Research-Papers-and-other-Sources\" data-toc-modified-id=\"Overall-Research-Papers-and-other-Sources-3.2.1\"><span class=\"toc-item-num\">3.2.1&nbsp;&nbsp;</span>Overall Research Papers and other Sources</a></span></li><li><span><a href=\"#Ranking-Metric-Optimization\" data-toc-modified-id=\"Ranking-Metric-Optimization-3.2.2\"><span class=\"toc-item-num\">3.2.2&nbsp;&nbsp;</span>Ranking Metric Optimization</a></span></li><li><span><a href=\"#Unbiased-Learning-to-Rank\" data-toc-modified-id=\"Unbiased-Learning-to-Rank-3.2.3\"><span class=\"toc-item-num\">3.2.3&nbsp;&nbsp;</span>Unbiased Learning-to-Rank</a></span></li><li><span><a href=\"#Experiments-that-could-follow-after-initial-POC\" data-toc-modified-id=\"Experiments-that-could-follow-after-initial-POC-3.2.4\"><span class=\"toc-item-num\">3.2.4&nbsp;&nbsp;</span>Experiments that could follow after initial POC</a></span></li></ul></li></ul></li><li><span><a href=\"#Model-implementation\" data-toc-modified-id=\"Model-implementation-4\"><span class=\"toc-item-num\">4&nbsp;&nbsp;</span>Model implementation</a></span><ul class=\"toc-item\"><li><span><a href=\"#Library-imports\" data-toc-modified-id=\"Library-imports-4.1\"><span class=\"toc-item-num\">4.1&nbsp;&nbsp;</span>Library imports</a></span></li><li><span><a href=\"#Preparing-and-looking-at-dataset\" data-toc-modified-id=\"Preparing-and-looking-at-dataset-4.2\"><span class=\"toc-item-num\">4.2&nbsp;&nbsp;</span>Preparing and looking at dataset</a></span></li><li><span><a href=\"#Data-modeling\" data-toc-modified-id=\"Data-modeling-4.3\"><span class=\"toc-item-num\">4.3&nbsp;&nbsp;</span>Data modeling</a></span><ul class=\"toc-item\"><li><span><a href=\"#Defining-train/test-subsets\" data-toc-modified-id=\"Defining-train/test-subsets-4.3.1\"><span class=\"toc-item-num\">4.3.1&nbsp;&nbsp;</span>Defining train/test subsets</a></span></li><li><span><a href=\"#Defining-'y'-label\" data-toc-modified-id=\"Defining-'y'-label-4.3.2\"><span class=\"toc-item-num\">4.3.2&nbsp;&nbsp;</span>Defining 'y' label</a></span></li><li><span><a href=\"#Scaling-data-numerics\" data-toc-modified-id=\"Scaling-data-numerics-4.3.3\"><span class=\"toc-item-num\">4.3.3&nbsp;&nbsp;</span>Scaling data numerics</a></span></li><li><span><a href=\"#Defining-final-train/test-sets\" data-toc-modified-id=\"Defining-final-train/test-sets-4.3.4\"><span class=\"toc-item-num\">4.3.4&nbsp;&nbsp;</span>Defining final train/test sets</a></span></li><li><span><a href=\"#Building-ranker\" data-toc-modified-id=\"Building-ranker-4.3.5\"><span class=\"toc-item-num\">4.3.5&nbsp;&nbsp;</span>Building ranker</a></span></li><li><span><a href=\"#Predicting-and-re-ranking\" data-toc-modified-id=\"Predicting-and-re-ranking-4.3.6\"><span class=\"toc-item-num\">4.3.6&nbsp;&nbsp;</span>Predicting and re-ranking</a></span></li></ul></li></ul></li></ul></div>"
   ]
  },
  {
   "cell_type": "markdown",
   "metadata": {},
   "source": [
    "<br><br><br><br>\n",
    "# Task"
   ]
  },
  {
   "cell_type": "markdown",
   "metadata": {},
   "source": [
    "Using provided Learning to Rank dataset, the **task is to engineer a machine learning model\n",
    "that re-ranks documents optimising NDCG measure** (relevancy being approximated by ``clicked`` column).\n",
    "\n",
    "The dataset is provided in the form of a CSV file, which consists of the following columns:\n",
    "* listing identifier – ``listing_id``\n",
    "* rank of a document in the listing – ``doc_rank``\n",
    "* whether a document was relevant – ``clicked``\n",
    "* numerical features – ``n0`` through ``n44``\n",
    "* categorical features – ``c0`` through ``c4``"
   ]
  },
  {
   "cell_type": "markdown",
   "metadata": {},
   "source": [
    "<br><br><br><br>\n",
    "# Approach"
   ]
  },
  {
   "cell_type": "markdown",
   "metadata": {},
   "source": [
    "As a Proof-of-Concept model a **XGBRanker** from XGBoost library v.0.81 was used. With objective defined as ``rank:ndcg`` parameter it uses *LambdaMART* algorithm to perform list-wise ranking where NDCG is maximized.<br>\n",
    "\n",
    "It is an implementation of the Scikit-Learn API for XGBoost Ranking and is based on XGBModel.\n",
    "\n",
    "**Note**: Confined to smaller scales, models like GBDT are arguably at par in performance and easier to handle than Deep NN aproach, and it is relevant to use them for focused medium sized problems."
   ]
  },
  {
   "cell_type": "markdown",
   "metadata": {},
   "source": [
    "<br><br><br><br><br><br><br>\n",
    "# Research\n",
    "/ method, definitions, research papers, initial thoughts, concepts /"
   ]
  },
  {
   "cell_type": "markdown",
   "metadata": {},
   "source": [
    "## Definitions"
   ]
  },
  {
   "cell_type": "markdown",
   "metadata": {},
   "source": [
    "### Learning-to-Rank methods overview"
   ]
  },
  {
   "cell_type": "markdown",
   "metadata": {},
   "source": [
    "**Methods**\n",
    "\n",
    "* **Pointwise**<br>\n",
    "Pointwise approaches look at a <u>single document</u> at a time in the loss function. They essentially take a single document and train a classifier / regressor on it to predict how relevant it is for the current query. The final ranking is achieved by simply sorting the result list by these document scores. For pointwise approaches, the score for each document is independent of the other documents that are in the result list for the query.\n",
    "*All the standard regression and classification algorithms can be directly used for pointwise learning to rank.*<br><br>\n",
    "* **Pairwise**<br>\n",
    "Pairwise approaches look at a <u>pair of documents</u> at a time in the loss function. Given a pair of documents, they try and come up with the optimal ordering for that pair and compare it to the ground truth. The goal for the ranker is to minimize the number of inversions in ranking i.e. cases where the pair of results are in the wrong order relative to the ground truth.<br>\n",
    "Pairwise approaches work better in practice than pointwise approaches because predicting relative order is closer to the nature of ranking than predicting class label or relevance score. *Some of the most popular Learning to Rank algorithms like RankNet, LambdaRank and LambdaMART are pairwise approaches.*\n",
    "<br><br>\n",
    "* **Listwise**<br>\n",
    "Listwise approaches directly look at the <u>entire list of documents</u> and try to come up with the optimal ordering for it. There are 2 main sub-techniques for doing listwise Learning to Rank:\n",
    "    - Direct optimization of Information Retrieval measures such as NDCG. E.g. *SoftRank, AdaRank*\n",
    "    - Minimize a loss function that is defined based on understanding the unique properties of the kind of ranking you are trying to achieve. E.g. *ListNet, ListMLE*\n",
    "<br>\n",
    "\n",
    "source: https://medium.com/@nikhilbd/pointwise-vs-pairwise-vs-listwise-learning-to-rank-80a8fe8fadfd"
   ]
  },
  {
   "cell_type": "markdown",
   "metadata": {},
   "source": [
    "**Sample algorithms**"
   ]
  },
  {
   "cell_type": "markdown",
   "metadata": {},
   "source": [
    "* **RankNet**<br>\n",
    "RankNet was originally developed using neural nets, but the underlying model can be different and is not constrained to just neural nets. The cost function for RankNet aims to minimize the number of inversions in ranking. Here an inversion means an incorrect order among a pair of results, i.e. when we rank a lower rated result above a higher rated result in a ranked list. RankNet optimizes the cost function using Stochastic Gradient Descent.<br><br>\n",
    "\n",
    "* **LambdaRank**<br>\n",
    "It was found that during RankNet training procedure, you don't need the costs, only need the gradients (λ) of the cost with respect to the model score. One can think of these gradients as little arrows attached to each document in the ranked list, indicating the direction we’d like those documents to move.<br>\n",
    "Further it was found that scaling the gradients by the change in NDCG found by swapping each pair of documents gave good results. The core idea of LambdaRank is to use this new cost function for training a RankNet. On experimental datasets, this shows both speed and accuracy improvements over the original RankNet.<br><br>\n",
    "\n",
    "* **LambdaMART**<br>\n",
    "LambdaMART combines LambdaRank and MART (Multiple Additive Regression Trees). While MART uses gradient boosted decision trees for prediction tasks, LambdaMART uses gradient boosted decision trees using a cost function derived from LambdaRank for solving a ranking task. On experimental datasets, LambdaMART has shown better results than LambdaRank and the original RankNet.\n",
    "\n",
    "source: https://www.quora.com/What-is-the-intuitive-explanation-of-Learning-to-Rank-and-algorithms-like-RankNet-LambdaRank-and-LambdaMART-In-what-types-of-data-variables-can-these-techniques-be-used-What-are-their-strengths-and-limitations/answer/Nikhil-Dandekar"
   ]
  },
  {
   "cell_type": "markdown",
   "metadata": {},
   "source": [
    "**Papers**\n",
    "\n",
    "* **From RankNet to LambdaRank to LambdaMART: An Overview** (Microsoft Research Technical Report MSR-TR-2010-82) -https://www.microsoft.com/en-us/research/publication/from-ranknet-to-lambdarank-to-lambdamart-an-overview/ / https://www.microsoft.com/en-us/research/wp-content/uploads/2016/02/MSR-TR-2010-82.pdf"
   ]
  },
  {
   "cell_type": "markdown",
   "metadata": {},
   "source": [
    "### NDCG measure\n",
    "(definition: https://en.wikipedia.org/wiki/Discounted_cumulative_gain)<br><br>\n",
    "NDCG (normalised discounted cumulative gain) is a single-number measure of effectiveness of a ranking algorithm that allows non-binary relevance judgments. It has a strong relationship to the average precision (AP), but has a discounting function with a very heavy tail that must be truncated.<br>\n",
    "\n",
    "NDCG has two advantages compared to many other measures: \n",
    "- allows each retrieved document has graded relevance while most traditional ranking measures only allow binary relevance. That is, each document is viewed as either relevant or not relevant by previous ranking measures, while there can be degrees of relevancy for documents in NDCG.\n",
    "- involves a discount function over the rank while many other measures uniformly weight all positions. This feature is particularly important for search engines as users care top ranked documents much more than others.\n",
    "\n",
    "NDCG is a normalization of the Discounted Cumulative Gain (DCG) measure. (For formal definition of both DCG and NDCG, please see Section 2.) DCG is a weighted sum of the degree of relevancy of the ranked items. The weight is a decreasing function of the rank (position) of the object, and therefore called discount.\n",
    "<br>(...)<br>\n",
    "<u>Search engine systems also use a cut-off top-k version of NDCG</u>. That is, the discount is set to be zero for ranks larger than k. Such NDCG measure is usually referred to as NDCG@k.\n",
    "<br><br>\n",
    "source: *A Theoretical Analysis of NDCG Ranking Measures* (in papers section below)\n",
    "\n",
    "<br><br>\n",
    "**Other measures**: MAP (Mean Average Precision), MRR (Mean Reciprocal Rank), AUC (Area Under the ROC Curve), ERR (Expected reciprocal rank), Yandex's pfound"
   ]
  },
  {
   "cell_type": "markdown",
   "metadata": {},
   "source": [
    "**Papers**\n",
    "\n",
    "* **A Theoretical Analysis of NDCG Ranking Measures** (PMLR Volume 30: Conference on Learning Theory, 12-14 June 2013) - http://proceedings.mlr.press/v30/Wang13.pdf\n",
    "* **Metric Learning to Rank** (The 27th International Conference on Machine Learning (ICML 2010)) - https://icml.cc/Conferences/2010/papers/504.pdf / https://bmcfee.github.io/papers/mlr.pdf\n",
    "* **Learning to Rank by Optimizing NDCG Measure** (NIPS 2009) - https://papers.nips.cc/paper/3758-learning-to-rank-by-optimizing-ndcg-measure / https://papers.nips.cc/paper/3758-learning-to-rank-by-optimizing-ndcg-measure.pdf"
   ]
  },
  {
   "cell_type": "markdown",
   "metadata": {},
   "source": [
    "<br><br>\n",
    "## Initial findings"
   ]
  },
  {
   "cell_type": "markdown",
   "metadata": {},
   "source": [
    "### Overall Research Papers and other Sources"
   ]
  },
  {
   "cell_type": "markdown",
   "metadata": {},
   "source": [
    "* **Hashing as Tie-Aware Learning to Rank** (Optimizing NDCG and AP; 2018)  - https://arxiv.org/abs/1705.08562v4\n",
    "\n",
    "* **TF-Ranking: A Scalable TensorFlow Library for Learning-to-Rank** (2018) - https://ai.googleblog.com/2018/12/tf-ranking-scalable-tensorflow-library.html / https://arxiv.org/abs/1812.00073\n",
    "\n",
    "* **Learning Groupwise Scoring Functions Using Deep Neural Networks** - https://arxiv.org/abs/1811.04415\n",
    "\n",
    "* **Direct Learning to Rank and Rerank** (Proceedings of Machine Learning Research, Volume 84: International Conference on Artificial Intelligence and Statistics, 9-11 April 2018) http://proceedings.mlr.press/v84/rudin18a.html / http://proceedings.mlr.press/v84/rudin18a/rudin18a.pdf\n",
    "\n",
    "* **Learning to rank @ allegro.pl** - https://www.youtube.com/watch?v=O7v9u_gSy7Y"
   ]
  },
  {
   "cell_type": "markdown",
   "metadata": {},
   "source": [
    "### Ranking Metric Optimization"
   ]
  },
  {
   "cell_type": "markdown",
   "metadata": {},
   "source": [
    "An important research challenge in learning-to-rank is direct optimization of ranking metrics (such as the previously mentioned NDCG and MRR). These metrics, while being able to measure the performance of ranking systems better than the standard classification metrics like Area Under the Curve (AUC), have the unfortunate property of being either discontinuous or flat. Therefore standard stochastic gradient descent optimization of these metrics is problematic.\n",
    "<br><br>\n",
    "In recent work, Google proposed a novel method, *LambdaLoss*, which provides a principled probabilistic framework for ranking metric optimization. In this framework, metric-driven loss functions can be designed and optimized by an expectation-maximization procedure. The TF-Ranking library integrates the recent advances in direct metric optimization and provides an implementation of LambdaLoss.\n",
    "\n",
    "source: https://ai.googleblog.com/2018/12/tf-ranking-scalable-tensorflow-library.html\n",
    "\n",
    "**Paper**\n",
    "* The LambdaLoss Framework for Ranking Metric Optimization - https://ai.google/research/pubs/pub47258 / https://ai.google/research/pubs/pub47258.pdf"
   ]
  },
  {
   "cell_type": "markdown",
   "metadata": {},
   "source": [
    "### Unbiased Learning-to-Rank"
   ]
  },
  {
   "cell_type": "markdown",
   "metadata": {},
   "source": [
    "Prior research has shown that given a ranked list of items, users are much more likely to interact with the first few results, regardless of their relevance. This observation has inspired research interest in unbiased learning-to-rank, and led to the development of unbiased evaluation and several unbiased learning algorithms, based on training instances re-weighting. In the Google's TF-Ranking library, metrics are implemented to support unbiased evaluation and losses are implemented for unbiased learning by natively supporting re-weighting to overcome the inherent biases in user interactions datasets. \n",
    "\n",
    "source: https://ai.googleblog.com/2018/12/tf-ranking-scalable-tensorflow-library.html\n",
    "\n",
    "**Paper**\n",
    "* Addressing Trust Bias for Unbiased Learning-to-Rank (2019) - https://ai.google/research/pubs/pub47859.pdf\n",
    "* Position Bias Estimation for Unbiased Learning to Rank in Personal Search (2018) - https://ai.google/research/pubs/pub46485.pdf\n",
    "* Counterfactual Learning-to-Rank for Additive Metrics and Deep (2018) - http://www.cs.cornell.edu/people/tj/publications/agarwal_etal_18b.pdf\n",
    "* Unbiased Learning-to-Rank with Biased Feedback (2017) - http://www.cs.cornell.edu/people/tj/publications/joachims_etal_17a.pdf"
   ]
  },
  {
   "cell_type": "markdown",
   "metadata": {},
   "source": [
    "### Experiments that could follow after initial POC"
   ]
  },
  {
   "cell_type": "markdown",
   "metadata": {},
   "source": [
    "* Further hyperparameters tuning with XGBRanker\n",
    "<br><br>\n",
    "* Checking for position/presentation bias\n",
    "    - **Paper:** Unbiased Learning-to-Rank with Biased Feedback (2017) - http://www.cs.cornell.edu/people/tj/publications/joachims_etal_17a.pdf\n",
    "<br><br>\n",
    "\n",
    "* Combine search phrases with image (transfer learning with CNNs trained on ImageNet) and text (Word2vec/GloVe embeddings)\n",
    "* Combine NN with LambdaMART algorithm\n",
    "* Using listing ids as features as index into an embedding, which allowes to learn a vector representation per listing, encoding their unique properties.\n",
    "    - **Paper:** Applying Deep Learning To Airbnb Search (2018) - https://arxiv.org/pdf/1810.09591.pdf\n",
    "<br><br>\n",
    "\n",
    "* Trying out the recent Google's TF-Ranking library\n",
    "    - **GitHub:** https://github.com/tensorflow/ranking\n",
    "<br><br>\n",
    "\n",
    "* Working on Counterfactual Learning-to-Rank framework\n",
    "    - **Paper:** http://www.cs.cornell.edu/people/tj/publications/agarwal_etal_18b.pdf <br>\n",
    "    Focusing on DCG, this conceptual generalization gives rise to two new learning methods that both directly optimize an unbiased estimate of DCG despite the bias in the implicit feedback data. The first, SVM PropDCG, generalizes the Propensity Ranking SVM (SVM PropRank), and we show how the resulting optimization problem can be addressed via the Convex Concave Procedure (CCP). The second, Deep PropDCG, further generalizes the counterfactual learning-to-rank approach to deep networks as non-linear ranking functions. In addition to the theoretical support, we empirically find that SVM PropDCG significantly outperforms SVM PropRank in terms of DCG, and that it is robust to varying severity of presentation bias, noise, and propensity-model misspecification. Moreover, the ability to train non-linear ranking functions via Deep PropDCG further improves DCG.\n",
    "<br><br>\n",
    "\n",
    "* Using Learning-to-Rank with Elasticsearch\n",
    "    - **Source:** https://opensourceconnections.com/blog/2017/02/14/elasticsearch-learning-to-rank/\n",
    "    - **GitHub:** https://github.com/o19s/elasticsearch-learning-to-rank"
   ]
  },
  {
   "cell_type": "markdown",
   "metadata": {},
   "source": [
    "<br><br><br><br><br><br><br>\n",
    "# Model implementation "
   ]
  },
  {
   "cell_type": "markdown",
   "metadata": {},
   "source": [
    "## Library imports"
   ]
  },
  {
   "cell_type": "code",
   "execution_count": 1,
   "metadata": {},
   "outputs": [],
   "source": [
    "# Standard libs\n",
    "import numpy as np\n",
    "import pandas as pd\n",
    "import matplotlib.pyplot as plt\n",
    "import seaborn as sns"
   ]
  },
  {
   "cell_type": "code",
   "execution_count": 2,
   "metadata": {},
   "outputs": [],
   "source": [
    "# Model libs\n",
    "from sklearn.preprocessing import MinMaxScaler, StandardScaler\n",
    "# from sklearn.model_selection import cross_val_score, GroupKFold\n",
    "# from sklearn.metrics import accuracy_score, make_scorer\n",
    "\n",
    "from xgboost import XGBRanker\n",
    "from xgboost.callback import early_stop, print_evaluation\n",
    "from xgboost import plot_importance"
   ]
  },
  {
   "cell_type": "code",
   "execution_count": 3,
   "metadata": {},
   "outputs": [
    {
     "name": "stdout",
     "output_type": "stream",
     "text": [
      "XGBRanker v.0.81\n"
     ]
    }
   ],
   "source": [
    "# XGBRanker is implemented in XGBoost version >= 0.81\n",
    "import xgboost as xgb\n",
    "print('XGBRanker v.' + xgb.__version__)"
   ]
  },
  {
   "cell_type": "markdown",
   "metadata": {},
   "source": [
    "<br><br>\n",
    "## Preparing and looking at dataset"
   ]
  },
  {
   "cell_type": "markdown",
   "metadata": {},
   "source": [
    "Loading dataset"
   ]
  },
  {
   "cell_type": "code",
   "execution_count": 4,
   "metadata": {},
   "outputs": [],
   "source": [
    "data = pd.read_csv('data/dataset_v2.csv')"
   ]
  },
  {
   "cell_type": "markdown",
   "metadata": {},
   "source": [
    "Shape of dataset. There are 100k listings with overall ~4.9m presented documents."
   ]
  },
  {
   "cell_type": "code",
   "execution_count": 5,
   "metadata": {},
   "outputs": [
    {
     "name": "stdout",
     "output_type": "stream",
     "text": [
      "Data shape: (4885214, 53)\n",
      "Number of listings: 100000\n"
     ]
    }
   ],
   "source": [
    "print('Data shape:', data.shape)\n",
    "print('Number of listings:', data['listing_id'].nunique())"
   ]
  },
  {
   "cell_type": "markdown",
   "metadata": {},
   "source": [
    "Simple statistics for listing_id. The listings range from 2 to 60 presented documents in each with mean of ~49 per listing."
   ]
  },
  {
   "cell_type": "code",
   "execution_count": 6,
   "metadata": {},
   "outputs": [
    {
     "data": {
      "text/plain": [
       "count    100000.000000\n",
       "mean         48.852140\n",
       "std          19.479057\n",
       "min           2.000000\n",
       "25%          43.000000\n",
       "50%          60.000000\n",
       "75%          60.000000\n",
       "max          60.000000\n",
       "Name: listing_id, dtype: float64"
      ]
     },
     "execution_count": 6,
     "metadata": {},
     "output_type": "execute_result"
    }
   ],
   "source": [
    "data['listing_id'].value_counts().describe()"
   ]
  },
  {
   "cell_type": "markdown",
   "metadata": {},
   "source": [
    "Listings differ in presentation volume and a 2/3 of them contain 60 documents."
   ]
  },
  {
   "cell_type": "code",
   "execution_count": 7,
   "metadata": {},
   "outputs": [
    {
     "data": {
      "image/png": "[encoded data removed]",
      "text/plain": [
       "<Figure size 432x288 with 1 Axes>"
      ]
     },
     "metadata": {},
     "output_type": "display_data"
    }
   ],
   "source": [
    "plt.title('Distribution of documents per listing')\n",
    "sns.distplot(data['listing_id'].value_counts());"
   ]
  },
  {
   "cell_type": "code",
   "execution_count": 8,
   "metadata": {},
   "outputs": [
    {
     "data": {
      "image/png": "[encoded data removed]",
      "text/plain": [
       "<Figure size 432x288 with 1 Axes>"
      ]
     },
     "metadata": {},
     "output_type": "display_data"
    }
   ],
   "source": [
    "sns.countplot(data[data['listing_id'] <= 20]['listing_id'], palette='Set2');"
   ]
  },
  {
   "cell_type": "markdown",
   "metadata": {},
   "source": [
    "Sample observations"
   ]
  },
  {
   "cell_type": "code",
   "execution_count": 9,
   "metadata": {},
   "outputs": [
    {
     "data": {
      "text/html": [
       "<div>\n",
       "<style scoped>\n",
       "    .dataframe tbody tr th:only-of-type {\n",
       "        vertical-align: middle;\n",
       "    }\n",
       "\n",
       "    .dataframe tbody tr th {\n",
       "        vertical-align: top;\n",
       "    }\n",
       "\n",
       "    .dataframe thead th {\n",
       "        text-align: right;\n",
       "    }\n",
       "</style>\n",
       "<table border=\"1\" class=\"dataframe\">\n",
       "  <thead>\n",
       "    <tr style=\"text-align: right;\">\n",
       "      <th></th>\n",
       "      <th>listing_id</th>\n",
       "      <th>doc_rank</th>\n",
       "      <th>clicked</th>\n",
       "      <th>n0</th>\n",
       "      <th>n1</th>\n",
       "      <th>n2</th>\n",
       "      <th>n3</th>\n",
       "      <th>n4</th>\n",
       "      <th>n5</th>\n",
       "      <th>n6</th>\n",
       "      <th>...</th>\n",
       "      <th>n40</th>\n",
       "      <th>n41</th>\n",
       "      <th>n42</th>\n",
       "      <th>n43</th>\n",
       "      <th>n44</th>\n",
       "      <th>c0</th>\n",
       "      <th>c1</th>\n",
       "      <th>c2</th>\n",
       "      <th>c3</th>\n",
       "      <th>c4</th>\n",
       "    </tr>\n",
       "  </thead>\n",
       "  <tbody>\n",
       "    <tr>\n",
       "      <th>0</th>\n",
       "      <td>0</td>\n",
       "      <td>0</td>\n",
       "      <td>0</td>\n",
       "      <td>87.0</td>\n",
       "      <td>86.0</td>\n",
       "      <td>87.0</td>\n",
       "      <td>0.000000</td>\n",
       "      <td>0.142328</td>\n",
       "      <td>0.007693</td>\n",
       "      <td>0.0</td>\n",
       "      <td>...</td>\n",
       "      <td>99999.0</td>\n",
       "      <td>0.048142</td>\n",
       "      <td>-0.131414</td>\n",
       "      <td>-0.125540</td>\n",
       "      <td>19.99</td>\n",
       "      <td>0</td>\n",
       "      <td>0</td>\n",
       "      <td>4</td>\n",
       "      <td>0</td>\n",
       "      <td>0</td>\n",
       "    </tr>\n",
       "    <tr>\n",
       "      <th>1</th>\n",
       "      <td>0</td>\n",
       "      <td>1</td>\n",
       "      <td>0</td>\n",
       "      <td>87.0</td>\n",
       "      <td>86.0</td>\n",
       "      <td>87.0</td>\n",
       "      <td>0.023810</td>\n",
       "      <td>0.758929</td>\n",
       "      <td>0.091036</td>\n",
       "      <td>0.0</td>\n",
       "      <td>...</td>\n",
       "      <td>1000.0</td>\n",
       "      <td>0.060197</td>\n",
       "      <td>-0.131414</td>\n",
       "      <td>-0.125540</td>\n",
       "      <td>17.90</td>\n",
       "      <td>0</td>\n",
       "      <td>0</td>\n",
       "      <td>4</td>\n",
       "      <td>0</td>\n",
       "      <td>0</td>\n",
       "    </tr>\n",
       "    <tr>\n",
       "      <th>2</th>\n",
       "      <td>0</td>\n",
       "      <td>2</td>\n",
       "      <td>0</td>\n",
       "      <td>87.0</td>\n",
       "      <td>86.0</td>\n",
       "      <td>87.0</td>\n",
       "      <td>0.000000</td>\n",
       "      <td>0.133929</td>\n",
       "      <td>0.001270</td>\n",
       "      <td>0.0</td>\n",
       "      <td>...</td>\n",
       "      <td>5.0</td>\n",
       "      <td>-0.119726</td>\n",
       "      <td>-0.276582</td>\n",
       "      <td>-0.213422</td>\n",
       "      <td>9.75</td>\n",
       "      <td>0</td>\n",
       "      <td>0</td>\n",
       "      <td>3</td>\n",
       "      <td>0</td>\n",
       "      <td>0</td>\n",
       "    </tr>\n",
       "    <tr>\n",
       "      <th>3</th>\n",
       "      <td>0</td>\n",
       "      <td>3</td>\n",
       "      <td>0</td>\n",
       "      <td>87.0</td>\n",
       "      <td>86.0</td>\n",
       "      <td>87.0</td>\n",
       "      <td>0.062500</td>\n",
       "      <td>2.175595</td>\n",
       "      <td>0.276685</td>\n",
       "      <td>0.0</td>\n",
       "      <td>...</td>\n",
       "      <td>600.0</td>\n",
       "      <td>0.191341</td>\n",
       "      <td>-0.131414</td>\n",
       "      <td>-0.125540</td>\n",
       "      <td>19.99</td>\n",
       "      <td>0</td>\n",
       "      <td>0</td>\n",
       "      <td>4</td>\n",
       "      <td>0</td>\n",
       "      <td>0</td>\n",
       "    </tr>\n",
       "    <tr>\n",
       "      <th>4</th>\n",
       "      <td>0</td>\n",
       "      <td>4</td>\n",
       "      <td>0</td>\n",
       "      <td>87.0</td>\n",
       "      <td>86.0</td>\n",
       "      <td>87.0</td>\n",
       "      <td>0.026786</td>\n",
       "      <td>1.547619</td>\n",
       "      <td>0.044791</td>\n",
       "      <td>0.0</td>\n",
       "      <td>...</td>\n",
       "      <td>99999.0</td>\n",
       "      <td>-0.137913</td>\n",
       "      <td>-0.131414</td>\n",
       "      <td>-0.125540</td>\n",
       "      <td>7.99</td>\n",
       "      <td>0</td>\n",
       "      <td>0</td>\n",
       "      <td>4</td>\n",
       "      <td>0</td>\n",
       "      <td>0</td>\n",
       "    </tr>\n",
       "  </tbody>\n",
       "</table>\n",
       "<p>5 rows × 53 columns</p>\n",
       "</div>"
      ],
      "text/plain": [
       "   listing_id  doc_rank  clicked    n0    n1    n2        n3        n4  \\\n",
       "0           0         0        0  87.0  86.0  87.0  0.000000  0.142328   \n",
       "1           0         1        0  87.0  86.0  87.0  0.023810  0.758929   \n",
       "2           0         2        0  87.0  86.0  87.0  0.000000  0.133929   \n",
       "3           0         3        0  87.0  86.0  87.0  0.062500  2.175595   \n",
       "4           0         4        0  87.0  86.0  87.0  0.026786  1.547619   \n",
       "\n",
       "         n5   n6  ...      n40       n41       n42       n43    n44  c0  c1  \\\n",
       "0  0.007693  0.0  ...  99999.0  0.048142 -0.131414 -0.125540  19.99   0   0   \n",
       "1  0.091036  0.0  ...   1000.0  0.060197 -0.131414 -0.125540  17.90   0   0   \n",
       "2  0.001270  0.0  ...      5.0 -0.119726 -0.276582 -0.213422   9.75   0   0   \n",
       "3  0.276685  0.0  ...    600.0  0.191341 -0.131414 -0.125540  19.99   0   0   \n",
       "4  0.044791  0.0  ...  99999.0 -0.137913 -0.131414 -0.125540   7.99   0   0   \n",
       "\n",
       "   c2  c3  c4  \n",
       "0   4   0   0  \n",
       "1   4   0   0  \n",
       "2   3   0   0  \n",
       "3   4   0   0  \n",
       "4   4   0   0  \n",
       "\n",
       "[5 rows x 53 columns]"
      ]
     },
     "execution_count": 9,
     "metadata": {},
     "output_type": "execute_result"
    }
   ],
   "source": [
    "data.head()"
   ]
  },
  {
   "cell_type": "code",
   "execution_count": 10,
   "metadata": {
    "scrolled": true
   },
   "outputs": [
    {
     "data": {
      "text/html": [
       "<div>\n",
       "<style scoped>\n",
       "    .dataframe tbody tr th:only-of-type {\n",
       "        vertical-align: middle;\n",
       "    }\n",
       "\n",
       "    .dataframe tbody tr th {\n",
       "        vertical-align: top;\n",
       "    }\n",
       "\n",
       "    .dataframe thead th {\n",
       "        text-align: right;\n",
       "    }\n",
       "</style>\n",
       "<table border=\"1\" class=\"dataframe\">\n",
       "  <thead>\n",
       "    <tr style=\"text-align: right;\">\n",
       "      <th></th>\n",
       "      <th>listing_id</th>\n",
       "      <th>doc_rank</th>\n",
       "      <th>clicked</th>\n",
       "      <th>n0</th>\n",
       "      <th>n1</th>\n",
       "      <th>n2</th>\n",
       "      <th>n3</th>\n",
       "      <th>n4</th>\n",
       "      <th>n5</th>\n",
       "      <th>n6</th>\n",
       "      <th>...</th>\n",
       "      <th>n40</th>\n",
       "      <th>n41</th>\n",
       "      <th>n42</th>\n",
       "      <th>n43</th>\n",
       "      <th>n44</th>\n",
       "      <th>c0</th>\n",
       "      <th>c1</th>\n",
       "      <th>c2</th>\n",
       "      <th>c3</th>\n",
       "      <th>c4</th>\n",
       "    </tr>\n",
       "  </thead>\n",
       "  <tbody>\n",
       "    <tr>\n",
       "      <th>4885209</th>\n",
       "      <td>99999</td>\n",
       "      <td>55</td>\n",
       "      <td>0</td>\n",
       "      <td>0.0</td>\n",
       "      <td>0.0</td>\n",
       "      <td>0.0</td>\n",
       "      <td>0.0</td>\n",
       "      <td>0.002976</td>\n",
       "      <td>0.000000</td>\n",
       "      <td>0.0</td>\n",
       "      <td>...</td>\n",
       "      <td>50.0</td>\n",
       "      <td>0.520656</td>\n",
       "      <td>0.143999</td>\n",
       "      <td>0.323712</td>\n",
       "      <td>25.90</td>\n",
       "      <td>0</td>\n",
       "      <td>0</td>\n",
       "      <td>4</td>\n",
       "      <td>1</td>\n",
       "      <td>3</td>\n",
       "    </tr>\n",
       "    <tr>\n",
       "      <th>4885210</th>\n",
       "      <td>99999</td>\n",
       "      <td>56</td>\n",
       "      <td>0</td>\n",
       "      <td>0.0</td>\n",
       "      <td>0.0</td>\n",
       "      <td>0.0</td>\n",
       "      <td>0.0</td>\n",
       "      <td>0.000000</td>\n",
       "      <td>0.000000</td>\n",
       "      <td>0.0</td>\n",
       "      <td>...</td>\n",
       "      <td>6.0</td>\n",
       "      <td>0.716215</td>\n",
       "      <td>0.143999</td>\n",
       "      <td>0.323712</td>\n",
       "      <td>109.99</td>\n",
       "      <td>0</td>\n",
       "      <td>0</td>\n",
       "      <td>4</td>\n",
       "      <td>1</td>\n",
       "      <td>3</td>\n",
       "    </tr>\n",
       "    <tr>\n",
       "      <th>4885211</th>\n",
       "      <td>99999</td>\n",
       "      <td>57</td>\n",
       "      <td>0</td>\n",
       "      <td>0.0</td>\n",
       "      <td>0.0</td>\n",
       "      <td>0.0</td>\n",
       "      <td>0.0</td>\n",
       "      <td>0.000000</td>\n",
       "      <td>0.000148</td>\n",
       "      <td>0.0</td>\n",
       "      <td>...</td>\n",
       "      <td>10.0</td>\n",
       "      <td>0.420662</td>\n",
       "      <td>0.143999</td>\n",
       "      <td>0.323712</td>\n",
       "      <td>39.00</td>\n",
       "      <td>0</td>\n",
       "      <td>0</td>\n",
       "      <td>4</td>\n",
       "      <td>1</td>\n",
       "      <td>3</td>\n",
       "    </tr>\n",
       "    <tr>\n",
       "      <th>4885212</th>\n",
       "      <td>99999</td>\n",
       "      <td>58</td>\n",
       "      <td>0</td>\n",
       "      <td>0.0</td>\n",
       "      <td>0.0</td>\n",
       "      <td>0.0</td>\n",
       "      <td>0.0</td>\n",
       "      <td>0.000000</td>\n",
       "      <td>0.000000</td>\n",
       "      <td>0.0</td>\n",
       "      <td>...</td>\n",
       "      <td>7.0</td>\n",
       "      <td>0.772205</td>\n",
       "      <td>0.143999</td>\n",
       "      <td>0.323712</td>\n",
       "      <td>124.49</td>\n",
       "      <td>0</td>\n",
       "      <td>0</td>\n",
       "      <td>4</td>\n",
       "      <td>1</td>\n",
       "      <td>3</td>\n",
       "    </tr>\n",
       "    <tr>\n",
       "      <th>4885213</th>\n",
       "      <td>99999</td>\n",
       "      <td>59</td>\n",
       "      <td>0</td>\n",
       "      <td>0.0</td>\n",
       "      <td>0.0</td>\n",
       "      <td>0.0</td>\n",
       "      <td>0.0</td>\n",
       "      <td>0.000000</td>\n",
       "      <td>0.000179</td>\n",
       "      <td>0.0</td>\n",
       "      <td>...</td>\n",
       "      <td>3.0</td>\n",
       "      <td>0.896056</td>\n",
       "      <td>0.143999</td>\n",
       "      <td>0.323712</td>\n",
       "      <td>109.99</td>\n",
       "      <td>0</td>\n",
       "      <td>0</td>\n",
       "      <td>4</td>\n",
       "      <td>1</td>\n",
       "      <td>3</td>\n",
       "    </tr>\n",
       "  </tbody>\n",
       "</table>\n",
       "<p>5 rows × 53 columns</p>\n",
       "</div>"
      ],
      "text/plain": [
       "         listing_id  doc_rank  clicked   n0   n1   n2   n3        n4  \\\n",
       "4885209       99999        55        0  0.0  0.0  0.0  0.0  0.002976   \n",
       "4885210       99999        56        0  0.0  0.0  0.0  0.0  0.000000   \n",
       "4885211       99999        57        0  0.0  0.0  0.0  0.0  0.000000   \n",
       "4885212       99999        58        0  0.0  0.0  0.0  0.0  0.000000   \n",
       "4885213       99999        59        0  0.0  0.0  0.0  0.0  0.000000   \n",
       "\n",
       "               n5   n6  ...   n40       n41       n42       n43     n44  c0  \\\n",
       "4885209  0.000000  0.0  ...  50.0  0.520656  0.143999  0.323712   25.90   0   \n",
       "4885210  0.000000  0.0  ...   6.0  0.716215  0.143999  0.323712  109.99   0   \n",
       "4885211  0.000148  0.0  ...  10.0  0.420662  0.143999  0.323712   39.00   0   \n",
       "4885212  0.000000  0.0  ...   7.0  0.772205  0.143999  0.323712  124.49   0   \n",
       "4885213  0.000179  0.0  ...   3.0  0.896056  0.143999  0.323712  109.99   0   \n",
       "\n",
       "         c1  c2  c3  c4  \n",
       "4885209   0   4   1   3  \n",
       "4885210   0   4   1   3  \n",
       "4885211   0   4   1   3  \n",
       "4885212   0   4   1   3  \n",
       "4885213   0   4   1   3  \n",
       "\n",
       "[5 rows x 53 columns]"
      ]
     },
     "execution_count": 10,
     "metadata": {},
     "output_type": "execute_result"
    }
   ],
   "source": [
    "data.tail()"
   ]
  },
  {
   "cell_type": "markdown",
   "metadata": {},
   "source": [
    "There are slightly more documents clicked (~108k) than listings (100k)."
   ]
  },
  {
   "cell_type": "code",
   "execution_count": 11,
   "metadata": {},
   "outputs": [
    {
     "data": {
      "text/plain": [
       "0    4776361\n",
       "1     108853\n",
       "Name: clicked, dtype: int64"
      ]
     },
     "execution_count": 11,
     "metadata": {},
     "output_type": "execute_result"
    }
   ],
   "source": [
    "data['clicked'].value_counts()"
   ]
  },
  {
   "cell_type": "markdown",
   "metadata": {},
   "source": [
    "<br><br><br><br><br><br><br>\n",
    "## Data modeling"
   ]
  },
  {
   "cell_type": "markdown",
   "metadata": {},
   "source": [
    "### Defining train/test subsets"
   ]
  },
  {
   "cell_type": "code",
   "execution_count": 34,
   "metadata": {},
   "outputs": [],
   "source": [
    "# Splitting original dataset for train/test subsets \n",
    "\n",
    "threshold = 10000\n",
    "threshold_upper = 12000\n",
    "\n",
    "data_train = data[data['listing_id'] <= threshold]\n",
    "data_test = data[(data['listing_id'] > threshold) & (data['listing_id'] <= threshold_upper)]"
   ]
  },
  {
   "cell_type": "markdown",
   "metadata": {},
   "source": [
    "<br><br>\n",
    "### Defining 'y' label"
   ]
  },
  {
   "cell_type": "code",
   "execution_count": 35,
   "metadata": {},
   "outputs": [],
   "source": [
    "# Defining relevance label\n",
    "y_train = data_train.pop('clicked')\n",
    "y_test = data_test.pop('clicked')"
   ]
  },
  {
   "cell_type": "code",
   "execution_count": 36,
   "metadata": {},
   "outputs": [
    {
     "data": {
      "text/plain": [
       "((494834, 52), (97408, 52), (494834,), (97408,))"
      ]
     },
     "execution_count": 36,
     "metadata": {},
     "output_type": "execute_result"
    }
   ],
   "source": [
    "data_train.shape, data_test.shape, y_train.shape, y_test.shape"
   ]
  },
  {
   "cell_type": "markdown",
   "metadata": {},
   "source": [
    "\n",
    "<br><br>\n",
    "### Scaling data numerics"
   ]
  },
  {
   "cell_type": "code",
   "execution_count": 37,
   "metadata": {},
   "outputs": [],
   "source": [
    "data_train_numerics = data_train.loc[:,'n0':]\n",
    "data_test_numerics = data_test.loc[:,'n0':]"
   ]
  },
  {
   "cell_type": "code",
   "execution_count": 38,
   "metadata": {},
   "outputs": [
    {
     "data": {
      "text/html": [
       "<div>\n",
       "<style scoped>\n",
       "    .dataframe tbody tr th:only-of-type {\n",
       "        vertical-align: middle;\n",
       "    }\n",
       "\n",
       "    .dataframe tbody tr th {\n",
       "        vertical-align: top;\n",
       "    }\n",
       "\n",
       "    .dataframe thead th {\n",
       "        text-align: right;\n",
       "    }\n",
       "</style>\n",
       "<table border=\"1\" class=\"dataframe\">\n",
       "  <thead>\n",
       "    <tr style=\"text-align: right;\">\n",
       "      <th></th>\n",
       "      <th>n0</th>\n",
       "      <th>n1</th>\n",
       "      <th>n2</th>\n",
       "      <th>n3</th>\n",
       "      <th>n4</th>\n",
       "      <th>n5</th>\n",
       "      <th>n6</th>\n",
       "      <th>n7</th>\n",
       "      <th>n8</th>\n",
       "      <th>n9</th>\n",
       "      <th>...</th>\n",
       "      <th>n40</th>\n",
       "      <th>n41</th>\n",
       "      <th>n42</th>\n",
       "      <th>n43</th>\n",
       "      <th>n44</th>\n",
       "      <th>c0</th>\n",
       "      <th>c1</th>\n",
       "      <th>c2</th>\n",
       "      <th>c3</th>\n",
       "      <th>c4</th>\n",
       "    </tr>\n",
       "  </thead>\n",
       "  <tbody>\n",
       "    <tr>\n",
       "      <th>0</th>\n",
       "      <td>87.0</td>\n",
       "      <td>86.0</td>\n",
       "      <td>87.0</td>\n",
       "      <td>0.00000</td>\n",
       "      <td>0.142328</td>\n",
       "      <td>0.007693</td>\n",
       "      <td>0.0</td>\n",
       "      <td>0.0</td>\n",
       "      <td>0.0</td>\n",
       "      <td>0.01</td>\n",
       "      <td>...</td>\n",
       "      <td>99999.0</td>\n",
       "      <td>0.048142</td>\n",
       "      <td>-0.131414</td>\n",
       "      <td>-0.12554</td>\n",
       "      <td>19.99</td>\n",
       "      <td>0</td>\n",
       "      <td>0</td>\n",
       "      <td>4</td>\n",
       "      <td>0</td>\n",
       "      <td>0</td>\n",
       "    </tr>\n",
       "    <tr>\n",
       "      <th>1</th>\n",
       "      <td>87.0</td>\n",
       "      <td>86.0</td>\n",
       "      <td>87.0</td>\n",
       "      <td>0.02381</td>\n",
       "      <td>0.758929</td>\n",
       "      <td>0.091036</td>\n",
       "      <td>0.0</td>\n",
       "      <td>0.0</td>\n",
       "      <td>0.0</td>\n",
       "      <td>0.01</td>\n",
       "      <td>...</td>\n",
       "      <td>1000.0</td>\n",
       "      <td>0.060197</td>\n",
       "      <td>-0.131414</td>\n",
       "      <td>-0.12554</td>\n",
       "      <td>17.90</td>\n",
       "      <td>0</td>\n",
       "      <td>0</td>\n",
       "      <td>4</td>\n",
       "      <td>0</td>\n",
       "      <td>0</td>\n",
       "    </tr>\n",
       "  </tbody>\n",
       "</table>\n",
       "<p>2 rows × 50 columns</p>\n",
       "</div>"
      ],
      "text/plain": [
       "     n0    n1    n2       n3        n4        n5   n6   n7   n8    n9  ...  \\\n",
       "0  87.0  86.0  87.0  0.00000  0.142328  0.007693  0.0  0.0  0.0  0.01  ...   \n",
       "1  87.0  86.0  87.0  0.02381  0.758929  0.091036  0.0  0.0  0.0  0.01  ...   \n",
       "\n",
       "       n40       n41       n42      n43    n44  c0  c1  c2  c3  c4  \n",
       "0  99999.0  0.048142 -0.131414 -0.12554  19.99   0   0   4   0   0  \n",
       "1   1000.0  0.060197 -0.131414 -0.12554  17.90   0   0   4   0   0  \n",
       "\n",
       "[2 rows x 50 columns]"
      ]
     },
     "execution_count": 38,
     "metadata": {},
     "output_type": "execute_result"
    }
   ],
   "source": [
    "data_train_numerics.head(2)"
   ]
  },
  {
   "cell_type": "code",
   "execution_count": 39,
   "metadata": {
    "scrolled": true
   },
   "outputs": [
    {
     "data": {
      "text/html": [
       "<div>\n",
       "<style scoped>\n",
       "    .dataframe tbody tr th:only-of-type {\n",
       "        vertical-align: middle;\n",
       "    }\n",
       "\n",
       "    .dataframe tbody tr th {\n",
       "        vertical-align: top;\n",
       "    }\n",
       "\n",
       "    .dataframe thead th {\n",
       "        text-align: right;\n",
       "    }\n",
       "</style>\n",
       "<table border=\"1\" class=\"dataframe\">\n",
       "  <thead>\n",
       "    <tr style=\"text-align: right;\">\n",
       "      <th></th>\n",
       "      <th>n0</th>\n",
       "      <th>n1</th>\n",
       "      <th>n2</th>\n",
       "      <th>n3</th>\n",
       "      <th>n4</th>\n",
       "      <th>n5</th>\n",
       "      <th>n6</th>\n",
       "      <th>n7</th>\n",
       "      <th>n8</th>\n",
       "      <th>n9</th>\n",
       "      <th>...</th>\n",
       "      <th>n40</th>\n",
       "      <th>n41</th>\n",
       "      <th>n42</th>\n",
       "      <th>n43</th>\n",
       "      <th>n44</th>\n",
       "      <th>c0</th>\n",
       "      <th>c1</th>\n",
       "      <th>c2</th>\n",
       "      <th>c3</th>\n",
       "      <th>c4</th>\n",
       "    </tr>\n",
       "  </thead>\n",
       "  <tbody>\n",
       "    <tr>\n",
       "      <th>494834</th>\n",
       "      <td>80.0</td>\n",
       "      <td>98.0</td>\n",
       "      <td>86.0</td>\n",
       "      <td>0.032738</td>\n",
       "      <td>0.791667</td>\n",
       "      <td>0.136692</td>\n",
       "      <td>0.0</td>\n",
       "      <td>0.01</td>\n",
       "      <td>0.0</td>\n",
       "      <td>0.03</td>\n",
       "      <td>...</td>\n",
       "      <td>1200.0</td>\n",
       "      <td>0.867136</td>\n",
       "      <td>0.426012</td>\n",
       "      <td>0.198007</td>\n",
       "      <td>19.99</td>\n",
       "      <td>0</td>\n",
       "      <td>0</td>\n",
       "      <td>4</td>\n",
       "      <td>1</td>\n",
       "      <td>1</td>\n",
       "    </tr>\n",
       "    <tr>\n",
       "      <th>494835</th>\n",
       "      <td>80.0</td>\n",
       "      <td>98.0</td>\n",
       "      <td>86.0</td>\n",
       "      <td>0.023810</td>\n",
       "      <td>0.684524</td>\n",
       "      <td>0.113259</td>\n",
       "      <td>0.0</td>\n",
       "      <td>0.00</td>\n",
       "      <td>0.0</td>\n",
       "      <td>0.01</td>\n",
       "      <td>...</td>\n",
       "      <td>10000.0</td>\n",
       "      <td>0.856878</td>\n",
       "      <td>0.426012</td>\n",
       "      <td>0.198007</td>\n",
       "      <td>29.50</td>\n",
       "      <td>0</td>\n",
       "      <td>0</td>\n",
       "      <td>4</td>\n",
       "      <td>1</td>\n",
       "      <td>1</td>\n",
       "    </tr>\n",
       "  </tbody>\n",
       "</table>\n",
       "<p>2 rows × 50 columns</p>\n",
       "</div>"
      ],
      "text/plain": [
       "          n0    n1    n2        n3        n4        n5   n6    n7   n8    n9  \\\n",
       "494834  80.0  98.0  86.0  0.032738  0.791667  0.136692  0.0  0.01  0.0  0.03   \n",
       "494835  80.0  98.0  86.0  0.023810  0.684524  0.113259  0.0  0.00  0.0  0.01   \n",
       "\n",
       "        ...      n40       n41       n42       n43    n44  c0  c1  c2  c3  c4  \n",
       "494834  ...   1200.0  0.867136  0.426012  0.198007  19.99   0   0   4   1   1  \n",
       "494835  ...  10000.0  0.856878  0.426012  0.198007  29.50   0   0   4   1   1  \n",
       "\n",
       "[2 rows x 50 columns]"
      ]
     },
     "execution_count": 39,
     "metadata": {},
     "output_type": "execute_result"
    }
   ],
   "source": [
    "data_test_numerics.head(2)"
   ]
  },
  {
   "cell_type": "code",
   "execution_count": null,
   "metadata": {
    "scrolled": true
   },
   "outputs": [],
   "source": [
    "# Defining scaler\n",
    "numeric_scaler = StandardScaler()\n",
    "\n",
    "# Fit & transform train set\n",
    "train_numerics_scaled = numeric_scaler.fit_transform(data_train_numerics)\n",
    "train_numerics_scaled = pd.DataFrame(train_numerics_scaled, columns=data_train_numerics.columns, index=data_train_numerics.index)\n",
    "\n",
    "# Transform test set\n",
    "test_numerics_scaled = numeric_scaler.transform(data_test_numerics)\n",
    "test_numerics_scaled = pd.DataFrame(test_numerics_scaled, columns=data_test_numerics.columns, index=data_test_numerics.index)"
   ]
  },
  {
   "cell_type": "code",
   "execution_count": 41,
   "metadata": {},
   "outputs": [
    {
     "data": {
      "text/html": [
       "<div>\n",
       "<style scoped>\n",
       "    .dataframe tbody tr th:only-of-type {\n",
       "        vertical-align: middle;\n",
       "    }\n",
       "\n",
       "    .dataframe tbody tr th {\n",
       "        vertical-align: top;\n",
       "    }\n",
       "\n",
       "    .dataframe thead th {\n",
       "        text-align: right;\n",
       "    }\n",
       "</style>\n",
       "<table border=\"1\" class=\"dataframe\">\n",
       "  <thead>\n",
       "    <tr style=\"text-align: right;\">\n",
       "      <th></th>\n",
       "      <th>n0</th>\n",
       "      <th>n1</th>\n",
       "      <th>n2</th>\n",
       "      <th>n3</th>\n",
       "      <th>n4</th>\n",
       "      <th>n5</th>\n",
       "      <th>n6</th>\n",
       "      <th>n7</th>\n",
       "      <th>n8</th>\n",
       "      <th>n9</th>\n",
       "      <th>...</th>\n",
       "      <th>n40</th>\n",
       "      <th>n41</th>\n",
       "      <th>n42</th>\n",
       "      <th>n43</th>\n",
       "      <th>n44</th>\n",
       "      <th>c0</th>\n",
       "      <th>c1</th>\n",
       "      <th>c2</th>\n",
       "      <th>c3</th>\n",
       "      <th>c4</th>\n",
       "    </tr>\n",
       "  </thead>\n",
       "  <tbody>\n",
       "    <tr>\n",
       "      <th>0</th>\n",
       "      <td>1.211761</td>\n",
       "      <td>1.108089</td>\n",
       "      <td>1.1926</td>\n",
       "      <td>-0.343223</td>\n",
       "      <td>-0.184692</td>\n",
       "      <td>-0.229624</td>\n",
       "      <td>-0.276655</td>\n",
       "      <td>-0.322053</td>\n",
       "      <td>-0.346921</td>\n",
       "      <td>-0.514283</td>\n",
       "      <td>...</td>\n",
       "      <td>5.007544</td>\n",
       "      <td>-3.156401</td>\n",
       "      <td>-2.511417</td>\n",
       "      <td>-1.626134</td>\n",
       "      <td>-0.043119</td>\n",
       "      <td>-0.336061</td>\n",
       "      <td>-0.295113</td>\n",
       "      <td>-0.029593</td>\n",
       "      <td>-1.137446</td>\n",
       "      <td>-0.957742</td>\n",
       "    </tr>\n",
       "    <tr>\n",
       "      <th>1</th>\n",
       "      <td>1.211761</td>\n",
       "      <td>1.108089</td>\n",
       "      <td>1.1926</td>\n",
       "      <td>1.494542</td>\n",
       "      <td>0.995122</td>\n",
       "      <td>1.524552</td>\n",
       "      <td>-0.276655</td>\n",
       "      <td>-0.322053</td>\n",
       "      <td>-0.346921</td>\n",
       "      <td>-0.514283</td>\n",
       "      <td>...</td>\n",
       "      <td>-0.181954</td>\n",
       "      <td>-3.100811</td>\n",
       "      <td>-2.511417</td>\n",
       "      <td>-1.626134</td>\n",
       "      <td>-0.043738</td>\n",
       "      <td>-0.336061</td>\n",
       "      <td>-0.295113</td>\n",
       "      <td>-0.029593</td>\n",
       "      <td>-1.137446</td>\n",
       "      <td>-0.957742</td>\n",
       "    </tr>\n",
       "  </tbody>\n",
       "</table>\n",
       "<p>2 rows × 50 columns</p>\n",
       "</div>"
      ],
      "text/plain": [
       "         n0        n1      n2        n3        n4        n5        n6  \\\n",
       "0  1.211761  1.108089  1.1926 -0.343223 -0.184692 -0.229624 -0.276655   \n",
       "1  1.211761  1.108089  1.1926  1.494542  0.995122  1.524552 -0.276655   \n",
       "\n",
       "         n7        n8        n9  ...       n40       n41       n42       n43  \\\n",
       "0 -0.322053 -0.346921 -0.514283  ...  5.007544 -3.156401 -2.511417 -1.626134   \n",
       "1 -0.322053 -0.346921 -0.514283  ... -0.181954 -3.100811 -2.511417 -1.626134   \n",
       "\n",
       "        n44        c0        c1        c2        c3        c4  \n",
       "0 -0.043119 -0.336061 -0.295113 -0.029593 -1.137446 -0.957742  \n",
       "1 -0.043738 -0.336061 -0.295113 -0.029593 -1.137446 -0.957742  \n",
       "\n",
       "[2 rows x 50 columns]"
      ]
     },
     "execution_count": 41,
     "metadata": {},
     "output_type": "execute_result"
    }
   ],
   "source": [
    "train_numerics_scaled.head(2)"
   ]
  },
  {
   "cell_type": "code",
   "execution_count": 42,
   "metadata": {},
   "outputs": [
    {
     "data": {
      "text/html": [
       "<div>\n",
       "<style scoped>\n",
       "    .dataframe tbody tr th:only-of-type {\n",
       "        vertical-align: middle;\n",
       "    }\n",
       "\n",
       "    .dataframe tbody tr th {\n",
       "        vertical-align: top;\n",
       "    }\n",
       "\n",
       "    .dataframe thead th {\n",
       "        text-align: right;\n",
       "    }\n",
       "</style>\n",
       "<table border=\"1\" class=\"dataframe\">\n",
       "  <thead>\n",
       "    <tr style=\"text-align: right;\">\n",
       "      <th></th>\n",
       "      <th>n0</th>\n",
       "      <th>n1</th>\n",
       "      <th>n2</th>\n",
       "      <th>n3</th>\n",
       "      <th>n4</th>\n",
       "      <th>n5</th>\n",
       "      <th>n6</th>\n",
       "      <th>n7</th>\n",
       "      <th>n8</th>\n",
       "      <th>n9</th>\n",
       "      <th>...</th>\n",
       "      <th>n40</th>\n",
       "      <th>n41</th>\n",
       "      <th>n42</th>\n",
       "      <th>n43</th>\n",
       "      <th>n44</th>\n",
       "      <th>c0</th>\n",
       "      <th>c1</th>\n",
       "      <th>c2</th>\n",
       "      <th>c3</th>\n",
       "      <th>c4</th>\n",
       "    </tr>\n",
       "  </thead>\n",
       "  <tbody>\n",
       "    <tr>\n",
       "      <th>494834</th>\n",
       "      <td>1.034377</td>\n",
       "      <td>1.401779</td>\n",
       "      <td>1.167539</td>\n",
       "      <td>2.183704</td>\n",
       "      <td>1.057764</td>\n",
       "      <td>2.485525</td>\n",
       "      <td>-0.276655</td>\n",
       "      <td>-0.178179</td>\n",
       "      <td>-0.346921</td>\n",
       "      <td>-0.414861</td>\n",
       "      <td>...</td>\n",
       "      <td>-0.171471</td>\n",
       "      <td>0.620480</td>\n",
       "      <td>-0.457059</td>\n",
       "      <td>-0.712891</td>\n",
       "      <td>-0.043119</td>\n",
       "      <td>-0.336061</td>\n",
       "      <td>-0.295113</td>\n",
       "      <td>-0.029593</td>\n",
       "      <td>0.566174</td>\n",
       "      <td>0.294427</td>\n",
       "    </tr>\n",
       "    <tr>\n",
       "      <th>494835</th>\n",
       "      <td>1.034377</td>\n",
       "      <td>1.401779</td>\n",
       "      <td>1.167539</td>\n",
       "      <td>1.494542</td>\n",
       "      <td>0.852755</td>\n",
       "      <td>1.992307</td>\n",
       "      <td>-0.276655</td>\n",
       "      <td>-0.322053</td>\n",
       "      <td>-0.346921</td>\n",
       "      <td>-0.514283</td>\n",
       "      <td>...</td>\n",
       "      <td>0.289823</td>\n",
       "      <td>0.573175</td>\n",
       "      <td>-0.457059</td>\n",
       "      <td>-0.712891</td>\n",
       "      <td>-0.040301</td>\n",
       "      <td>-0.336061</td>\n",
       "      <td>-0.295113</td>\n",
       "      <td>-0.029593</td>\n",
       "      <td>0.566174</td>\n",
       "      <td>0.294427</td>\n",
       "    </tr>\n",
       "  </tbody>\n",
       "</table>\n",
       "<p>2 rows × 50 columns</p>\n",
       "</div>"
      ],
      "text/plain": [
       "              n0        n1        n2        n3        n4        n5        n6  \\\n",
       "494834  1.034377  1.401779  1.167539  2.183704  1.057764  2.485525 -0.276655   \n",
       "494835  1.034377  1.401779  1.167539  1.494542  0.852755  1.992307 -0.276655   \n",
       "\n",
       "              n7        n8        n9  ...       n40       n41       n42  \\\n",
       "494834 -0.178179 -0.346921 -0.414861  ... -0.171471  0.620480 -0.457059   \n",
       "494835 -0.322053 -0.346921 -0.514283  ...  0.289823  0.573175 -0.457059   \n",
       "\n",
       "             n43       n44        c0        c1        c2        c3        c4  \n",
       "494834 -0.712891 -0.043119 -0.336061 -0.295113 -0.029593  0.566174  0.294427  \n",
       "494835 -0.712891 -0.040301 -0.336061 -0.295113 -0.029593  0.566174  0.294427  \n",
       "\n",
       "[2 rows x 50 columns]"
      ]
     },
     "execution_count": 42,
     "metadata": {},
     "output_type": "execute_result"
    }
   ],
   "source": [
    "test_numerics_scaled.head(2)"
   ]
  },
  {
   "cell_type": "markdown",
   "metadata": {},
   "source": [
    "<br><br>\n",
    "### Defining final train/test sets"
   ]
  },
  {
   "cell_type": "code",
   "execution_count": 43,
   "metadata": {},
   "outputs": [],
   "source": [
    "# Merging listing and docs columns with numerics dataframes\n",
    "train_adult = pd.concat([data_train.loc[:,:'doc_rank'], train_numerics_scaled], axis=1)\n",
    "test_adult = pd.concat([data_test.loc[:,:'doc_rank'], test_numerics_scaled], axis=1)"
   ]
  },
  {
   "cell_type": "code",
   "execution_count": 44,
   "metadata": {},
   "outputs": [
    {
     "data": {
      "text/plain": [
       "((494834, 52), (97408, 52))"
      ]
     },
     "execution_count": 44,
     "metadata": {},
     "output_type": "execute_result"
    }
   ],
   "source": [
    "# Shape of final dataframes\n",
    "train_adult.shape, test_adult.shape"
   ]
  },
  {
   "cell_type": "code",
   "execution_count": 45,
   "metadata": {
    "scrolled": true
   },
   "outputs": [
    {
     "data": {
      "text/html": [
       "<div>\n",
       "<style scoped>\n",
       "    .dataframe tbody tr th:only-of-type {\n",
       "        vertical-align: middle;\n",
       "    }\n",
       "\n",
       "    .dataframe tbody tr th {\n",
       "        vertical-align: top;\n",
       "    }\n",
       "\n",
       "    .dataframe thead th {\n",
       "        text-align: right;\n",
       "    }\n",
       "</style>\n",
       "<table border=\"1\" class=\"dataframe\">\n",
       "  <thead>\n",
       "    <tr style=\"text-align: right;\">\n",
       "      <th></th>\n",
       "      <th>listing_id</th>\n",
       "      <th>doc_rank</th>\n",
       "      <th>n0</th>\n",
       "      <th>n1</th>\n",
       "      <th>n2</th>\n",
       "      <th>n3</th>\n",
       "      <th>n4</th>\n",
       "      <th>n5</th>\n",
       "      <th>n6</th>\n",
       "      <th>n7</th>\n",
       "      <th>...</th>\n",
       "      <th>n40</th>\n",
       "      <th>n41</th>\n",
       "      <th>n42</th>\n",
       "      <th>n43</th>\n",
       "      <th>n44</th>\n",
       "      <th>c0</th>\n",
       "      <th>c1</th>\n",
       "      <th>c2</th>\n",
       "      <th>c3</th>\n",
       "      <th>c4</th>\n",
       "    </tr>\n",
       "  </thead>\n",
       "  <tbody>\n",
       "    <tr>\n",
       "      <th>0</th>\n",
       "      <td>0</td>\n",
       "      <td>0</td>\n",
       "      <td>1.211761</td>\n",
       "      <td>1.108089</td>\n",
       "      <td>1.1926</td>\n",
       "      <td>-0.343223</td>\n",
       "      <td>-0.184692</td>\n",
       "      <td>-0.229624</td>\n",
       "      <td>-0.276655</td>\n",
       "      <td>-0.322053</td>\n",
       "      <td>...</td>\n",
       "      <td>5.007544</td>\n",
       "      <td>-3.156401</td>\n",
       "      <td>-2.511417</td>\n",
       "      <td>-1.626134</td>\n",
       "      <td>-0.043119</td>\n",
       "      <td>-0.336061</td>\n",
       "      <td>-0.295113</td>\n",
       "      <td>-0.029593</td>\n",
       "      <td>-1.137446</td>\n",
       "      <td>-0.957742</td>\n",
       "    </tr>\n",
       "    <tr>\n",
       "      <th>1</th>\n",
       "      <td>0</td>\n",
       "      <td>1</td>\n",
       "      <td>1.211761</td>\n",
       "      <td>1.108089</td>\n",
       "      <td>1.1926</td>\n",
       "      <td>1.494542</td>\n",
       "      <td>0.995122</td>\n",
       "      <td>1.524552</td>\n",
       "      <td>-0.276655</td>\n",
       "      <td>-0.322053</td>\n",
       "      <td>...</td>\n",
       "      <td>-0.181954</td>\n",
       "      <td>-3.100811</td>\n",
       "      <td>-2.511417</td>\n",
       "      <td>-1.626134</td>\n",
       "      <td>-0.043738</td>\n",
       "      <td>-0.336061</td>\n",
       "      <td>-0.295113</td>\n",
       "      <td>-0.029593</td>\n",
       "      <td>-1.137446</td>\n",
       "      <td>-0.957742</td>\n",
       "    </tr>\n",
       "  </tbody>\n",
       "</table>\n",
       "<p>2 rows × 52 columns</p>\n",
       "</div>"
      ],
      "text/plain": [
       "   listing_id  doc_rank        n0        n1      n2        n3        n4  \\\n",
       "0           0         0  1.211761  1.108089  1.1926 -0.343223 -0.184692   \n",
       "1           0         1  1.211761  1.108089  1.1926  1.494542  0.995122   \n",
       "\n",
       "         n5        n6        n7  ...       n40       n41       n42       n43  \\\n",
       "0 -0.229624 -0.276655 -0.322053  ...  5.007544 -3.156401 -2.511417 -1.626134   \n",
       "1  1.524552 -0.276655 -0.322053  ... -0.181954 -3.100811 -2.511417 -1.626134   \n",
       "\n",
       "        n44        c0        c1        c2        c3        c4  \n",
       "0 -0.043119 -0.336061 -0.295113 -0.029593 -1.137446 -0.957742  \n",
       "1 -0.043738 -0.336061 -0.295113 -0.029593 -1.137446 -0.957742  \n",
       "\n",
       "[2 rows x 52 columns]"
      ]
     },
     "execution_count": 45,
     "metadata": {},
     "output_type": "execute_result"
    }
   ],
   "source": [
    "train_adult.head(2)"
   ]
  },
  {
   "cell_type": "code",
   "execution_count": 46,
   "metadata": {},
   "outputs": [
    {
     "data": {
      "text/html": [
       "<div>\n",
       "<style scoped>\n",
       "    .dataframe tbody tr th:only-of-type {\n",
       "        vertical-align: middle;\n",
       "    }\n",
       "\n",
       "    .dataframe tbody tr th {\n",
       "        vertical-align: top;\n",
       "    }\n",
       "\n",
       "    .dataframe thead th {\n",
       "        text-align: right;\n",
       "    }\n",
       "</style>\n",
       "<table border=\"1\" class=\"dataframe\">\n",
       "  <thead>\n",
       "    <tr style=\"text-align: right;\">\n",
       "      <th></th>\n",
       "      <th>listing_id</th>\n",
       "      <th>doc_rank</th>\n",
       "      <th>n0</th>\n",
       "      <th>n1</th>\n",
       "      <th>n2</th>\n",
       "      <th>n3</th>\n",
       "      <th>n4</th>\n",
       "      <th>n5</th>\n",
       "      <th>n6</th>\n",
       "      <th>n7</th>\n",
       "      <th>...</th>\n",
       "      <th>n40</th>\n",
       "      <th>n41</th>\n",
       "      <th>n42</th>\n",
       "      <th>n43</th>\n",
       "      <th>n44</th>\n",
       "      <th>c0</th>\n",
       "      <th>c1</th>\n",
       "      <th>c2</th>\n",
       "      <th>c3</th>\n",
       "      <th>c4</th>\n",
       "    </tr>\n",
       "  </thead>\n",
       "  <tbody>\n",
       "    <tr>\n",
       "      <th>494834</th>\n",
       "      <td>10001</td>\n",
       "      <td>0</td>\n",
       "      <td>1.034377</td>\n",
       "      <td>1.401779</td>\n",
       "      <td>1.167539</td>\n",
       "      <td>2.183704</td>\n",
       "      <td>1.057764</td>\n",
       "      <td>2.485525</td>\n",
       "      <td>-0.276655</td>\n",
       "      <td>-0.178179</td>\n",
       "      <td>...</td>\n",
       "      <td>-0.171471</td>\n",
       "      <td>0.620480</td>\n",
       "      <td>-0.457059</td>\n",
       "      <td>-0.712891</td>\n",
       "      <td>-0.043119</td>\n",
       "      <td>-0.336061</td>\n",
       "      <td>-0.295113</td>\n",
       "      <td>-0.029593</td>\n",
       "      <td>0.566174</td>\n",
       "      <td>0.294427</td>\n",
       "    </tr>\n",
       "    <tr>\n",
       "      <th>494835</th>\n",
       "      <td>10001</td>\n",
       "      <td>1</td>\n",
       "      <td>1.034377</td>\n",
       "      <td>1.401779</td>\n",
       "      <td>1.167539</td>\n",
       "      <td>1.494542</td>\n",
       "      <td>0.852755</td>\n",
       "      <td>1.992307</td>\n",
       "      <td>-0.276655</td>\n",
       "      <td>-0.322053</td>\n",
       "      <td>...</td>\n",
       "      <td>0.289823</td>\n",
       "      <td>0.573175</td>\n",
       "      <td>-0.457059</td>\n",
       "      <td>-0.712891</td>\n",
       "      <td>-0.040301</td>\n",
       "      <td>-0.336061</td>\n",
       "      <td>-0.295113</td>\n",
       "      <td>-0.029593</td>\n",
       "      <td>0.566174</td>\n",
       "      <td>0.294427</td>\n",
       "    </tr>\n",
       "  </tbody>\n",
       "</table>\n",
       "<p>2 rows × 52 columns</p>\n",
       "</div>"
      ],
      "text/plain": [
       "        listing_id  doc_rank        n0        n1        n2        n3  \\\n",
       "494834       10001         0  1.034377  1.401779  1.167539  2.183704   \n",
       "494835       10001         1  1.034377  1.401779  1.167539  1.494542   \n",
       "\n",
       "              n4        n5        n6        n7  ...       n40       n41  \\\n",
       "494834  1.057764  2.485525 -0.276655 -0.178179  ... -0.171471  0.620480   \n",
       "494835  0.852755  1.992307 -0.276655 -0.322053  ...  0.289823  0.573175   \n",
       "\n",
       "             n42       n43       n44        c0        c1        c2        c3  \\\n",
       "494834 -0.457059 -0.712891 -0.043119 -0.336061 -0.295113 -0.029593  0.566174   \n",
       "494835 -0.457059 -0.712891 -0.040301 -0.336061 -0.295113 -0.029593  0.566174   \n",
       "\n",
       "              c4  \n",
       "494834  0.294427  \n",
       "494835  0.294427  \n",
       "\n",
       "[2 rows x 52 columns]"
      ]
     },
     "execution_count": 46,
     "metadata": {},
     "output_type": "execute_result"
    }
   ],
   "source": [
    "test_adult.head(2)"
   ]
  },
  {
   "cell_type": "markdown",
   "metadata": {},
   "source": [
    "<br><br>\n",
    "\n",
    "### Building ranker\n",
    "\n",
    "**XGBRanker** model is build as a PoC. With ``rank:ndcg`` as objective it uses *LambdaMART* to perform list-wise ranking where **NDCG is maximized**.<br>\n",
    "\n",
    "<u>Group information is required for ranking tasks.</u><br>\n",
    "Before fitting the model, the data need to be sorted by group. When fitting the model, you need to provide an additional array that contains the size of each group."
   ]
  },
  {
   "cell_type": "code",
   "execution_count": 47,
   "metadata": {},
   "outputs": [],
   "source": [
    "# Defining grouping array\n",
    "groups = train_adult['listing_id'].value_counts().sort_index()\n",
    "\n",
    "# Defining evaluation sets and groups\n",
    "eval_set = [(train_adult.drop('doc_rank', axis=1), y_train),\n",
    "            (test_adult.drop('doc_rank', axis=1), y_test)]\n",
    "eval_group = [train_adult['listing_id'].value_counts().sort_index(),\n",
    "              test_adult['listing_id'].value_counts().sort_index()]"
   ]
  },
  {
   "cell_type": "code",
   "execution_count": 48,
   "metadata": {
    "scrolled": true
   },
   "outputs": [],
   "source": [
    "# Building ranker. Using LambdaMART with NDCG as objective\n",
    "param_dist = {'objective':'rank:ndcg', \n",
    "              'n_estimators':150,\n",
    "              'random_state':42,\n",
    "              'n_jobs':-1\n",
    "             }\n",
    "\n",
    "ranker = XGBRanker(**param_dist)\n",
    "\n",
    "ranker.fit(X=train_adult.drop('doc_rank', axis=1), \n",
    "           y=y_train,\n",
    "           group=groups,\n",
    "           eval_set=eval_set,\n",
    "           eval_group=eval_group,\n",
    "           eval_metric='ndcg',\n",
    "           verbose=False)\n",
    "\n",
    "evals_result = ranker.evals_result"
   ]
  },
  {
   "cell_type": "code",
   "execution_count": 49,
   "metadata": {},
   "outputs": [
    {
     "name": "stdout",
     "output_type": "stream",
     "text": [
      " Train NDCG score: 0.41954768000000003 \n",
      " Test NDCG score:  0.41412291333333334\n"
     ]
    }
   ],
   "source": [
    "print(' Train NDCG score: {} \\n Test NDCG score:  {}'.format(np.mean(evals_result['eval_0']['ndcg']),\n",
    "                np.mean(evals_result['eval_1']['ndcg'])))"
   ]
  },
  {
   "cell_type": "markdown",
   "metadata": {},
   "source": [
    "<br><br>\n",
    "### Predicting and re-ranking"
   ]
  },
  {
   "cell_type": "code",
   "execution_count": 50,
   "metadata": {},
   "outputs": [],
   "source": [
    "preds = ranker.predict(test_adult.drop('doc_rank', axis=1))"
   ]
  },
  {
   "cell_type": "code",
   "execution_count": 51,
   "metadata": {},
   "outputs": [
    {
     "data": {
      "image/png": "[encoded data removed]",
      "text/plain": [
       "<Figure size 432x288 with 1 Axes>"
      ]
     },
     "metadata": {},
     "output_type": "display_data"
    }
   ],
   "source": [
    "plot_importance(ranker, max_num_features=10, importance_type='gain');"
   ]
  },
  {
   "cell_type": "code",
   "execution_count": 52,
   "metadata": {
    "scrolled": false
   },
   "outputs": [
    {
     "data": {
      "text/html": [
       "<div>\n",
       "<style scoped>\n",
       "    .dataframe tbody tr th:only-of-type {\n",
       "        vertical-align: middle;\n",
       "    }\n",
       "\n",
       "    .dataframe tbody tr th {\n",
       "        vertical-align: top;\n",
       "    }\n",
       "\n",
       "    .dataframe thead th {\n",
       "        text-align: right;\n",
       "    }\n",
       "</style>\n",
       "<table border=\"1\" class=\"dataframe\">\n",
       "  <thead>\n",
       "    <tr style=\"text-align: right;\">\n",
       "      <th></th>\n",
       "      <th>listing_id</th>\n",
       "      <th>doc_rank</th>\n",
       "      <th>predictions</th>\n",
       "      <th>clicked</th>\n",
       "    </tr>\n",
       "  </thead>\n",
       "  <tbody>\n",
       "    <tr>\n",
       "      <th>495079</th>\n",
       "      <td>10005</td>\n",
       "      <td>5</td>\n",
       "      <td>1.762337</td>\n",
       "      <td>0</td>\n",
       "    </tr>\n",
       "    <tr>\n",
       "      <th>495088</th>\n",
       "      <td>10005</td>\n",
       "      <td>14</td>\n",
       "      <td>1.127221</td>\n",
       "      <td>1</td>\n",
       "    </tr>\n",
       "    <tr>\n",
       "      <th>495090</th>\n",
       "      <td>10005</td>\n",
       "      <td>16</td>\n",
       "      <td>1.090742</td>\n",
       "      <td>0</td>\n",
       "    </tr>\n",
       "    <tr>\n",
       "      <th>495082</th>\n",
       "      <td>10005</td>\n",
       "      <td>8</td>\n",
       "      <td>0.937371</td>\n",
       "      <td>0</td>\n",
       "    </tr>\n",
       "    <tr>\n",
       "      <th>495083</th>\n",
       "      <td>10005</td>\n",
       "      <td>9</td>\n",
       "      <td>0.904550</td>\n",
       "      <td>0</td>\n",
       "    </tr>\n",
       "  </tbody>\n",
       "</table>\n",
       "</div>"
      ],
      "text/plain": [
       "        listing_id  doc_rank  predictions  clicked\n",
       "495079       10005         5     1.762337        0\n",
       "495088       10005        14     1.127221        1\n",
       "495090       10005        16     1.090742        0\n",
       "495082       10005         8     0.937371        0\n",
       "495083       10005         9     0.904550        0"
      ]
     },
     "execution_count": 52,
     "metadata": {},
     "output_type": "execute_result"
    }
   ],
   "source": [
    "listing_df = test_adult.loc[:,:'doc_rank']\n",
    "preds_df = pd.DataFrame(preds, index=test_adult.index, columns=['predictions'])\n",
    "clicked_df = pd.DataFrame(y_test, index=test_adult.index, columns=['clicked'])\n",
    "\n",
    "results = pd.concat([\n",
    "                        listing_df, \n",
    "                        preds_df,\n",
    "                        clicked_df\n",
    "                    ],\n",
    "                        axis=1).sort_values(by=['listing_id','predictions'], ascending=(True,False))\n",
    "\n",
    "# Sample re-ranked listing\n",
    "results[results['listing_id'] == 10005].head()"
   ]
  },
  {
   "cell_type": "code",
   "execution_count": 54,
   "metadata": {},
   "outputs": [
    {
     "data": {
      "text/html": [
       "<div>\n",
       "<style scoped>\n",
       "    .dataframe tbody tr th:only-of-type {\n",
       "        vertical-align: middle;\n",
       "    }\n",
       "\n",
       "    .dataframe tbody tr th {\n",
       "        vertical-align: top;\n",
       "    }\n",
       "\n",
       "    .dataframe thead th {\n",
       "        text-align: right;\n",
       "    }\n",
       "</style>\n",
       "<table border=\"1\" class=\"dataframe\">\n",
       "  <thead>\n",
       "    <tr style=\"text-align: right;\">\n",
       "      <th></th>\n",
       "      <th>listing_id</th>\n",
       "      <th>doc_rank</th>\n",
       "      <th>clicked</th>\n",
       "    </tr>\n",
       "  </thead>\n",
       "  <tbody>\n",
       "    <tr>\n",
       "      <th>495074</th>\n",
       "      <td>10005</td>\n",
       "      <td>0</td>\n",
       "      <td>0</td>\n",
       "    </tr>\n",
       "    <tr>\n",
       "      <th>495075</th>\n",
       "      <td>10005</td>\n",
       "      <td>1</td>\n",
       "      <td>0</td>\n",
       "    </tr>\n",
       "    <tr>\n",
       "      <th>495076</th>\n",
       "      <td>10005</td>\n",
       "      <td>2</td>\n",
       "      <td>0</td>\n",
       "    </tr>\n",
       "    <tr>\n",
       "      <th>495077</th>\n",
       "      <td>10005</td>\n",
       "      <td>3</td>\n",
       "      <td>0</td>\n",
       "    </tr>\n",
       "    <tr>\n",
       "      <th>495078</th>\n",
       "      <td>10005</td>\n",
       "      <td>4</td>\n",
       "      <td>0</td>\n",
       "    </tr>\n",
       "    <tr>\n",
       "      <th>495079</th>\n",
       "      <td>10005</td>\n",
       "      <td>5</td>\n",
       "      <td>0</td>\n",
       "    </tr>\n",
       "    <tr>\n",
       "      <th>495080</th>\n",
       "      <td>10005</td>\n",
       "      <td>6</td>\n",
       "      <td>0</td>\n",
       "    </tr>\n",
       "    <tr>\n",
       "      <th>495081</th>\n",
       "      <td>10005</td>\n",
       "      <td>7</td>\n",
       "      <td>0</td>\n",
       "    </tr>\n",
       "    <tr>\n",
       "      <th>495082</th>\n",
       "      <td>10005</td>\n",
       "      <td>8</td>\n",
       "      <td>0</td>\n",
       "    </tr>\n",
       "    <tr>\n",
       "      <th>495083</th>\n",
       "      <td>10005</td>\n",
       "      <td>9</td>\n",
       "      <td>0</td>\n",
       "    </tr>\n",
       "    <tr>\n",
       "      <th>495084</th>\n",
       "      <td>10005</td>\n",
       "      <td>10</td>\n",
       "      <td>0</td>\n",
       "    </tr>\n",
       "    <tr>\n",
       "      <th>495085</th>\n",
       "      <td>10005</td>\n",
       "      <td>11</td>\n",
       "      <td>0</td>\n",
       "    </tr>\n",
       "    <tr>\n",
       "      <th>495086</th>\n",
       "      <td>10005</td>\n",
       "      <td>12</td>\n",
       "      <td>0</td>\n",
       "    </tr>\n",
       "    <tr>\n",
       "      <th>495087</th>\n",
       "      <td>10005</td>\n",
       "      <td>13</td>\n",
       "      <td>0</td>\n",
       "    </tr>\n",
       "    <tr>\n",
       "      <th>495088</th>\n",
       "      <td>10005</td>\n",
       "      <td>14</td>\n",
       "      <td>1</td>\n",
       "    </tr>\n",
       "  </tbody>\n",
       "</table>\n",
       "</div>"
      ],
      "text/plain": [
       "        listing_id  doc_rank  clicked\n",
       "495074       10005         0        0\n",
       "495075       10005         1        0\n",
       "495076       10005         2        0\n",
       "495077       10005         3        0\n",
       "495078       10005         4        0\n",
       "495079       10005         5        0\n",
       "495080       10005         6        0\n",
       "495081       10005         7        0\n",
       "495082       10005         8        0\n",
       "495083       10005         9        0\n",
       "495084       10005        10        0\n",
       "495085       10005        11        0\n",
       "495086       10005        12        0\n",
       "495087       10005        13        0\n",
       "495088       10005        14        1"
      ]
     },
     "execution_count": 54,
     "metadata": {},
     "output_type": "execute_result"
    }
   ],
   "source": [
    "# Original ranking - clicked on 14th place\n",
    "data[data['listing_id'] == 10005].loc[:,:'clicked'].head(15)"
   ]
  },
  {
   "cell_type": "code",
   "execution_count": 55,
   "metadata": {},
   "outputs": [
    {
     "data": {
      "image/png": "[encoded data removed]",
      "text/plain": [
       "<Figure size 432x288 with 1 Axes>"
      ]
     },
     "metadata": {},
     "output_type": "display_data"
    }
   ],
   "source": [
    "# Plotting predictions from sample listing 10005\n",
    "plt.plot(range(len(results[results['listing_id'] == 10005]['predictions'])), \n",
    "         results[results['listing_id'] == 10005]['predictions']);"
   ]
  }
 ],
 "metadata": {
  "hide_input": false,
  "kernelspec": {
   "display_name": "Python 3",
   "language": "python",
   "name": "python3"
  },
  "language_info": {
   "codemirror_mode": {
    "name": "ipython",
    "version": 3
   },
   "file_extension": ".py",
   "mimetype": "text/x-python",
   "name": "python",
   "nbconvert_exporter": "python",
   "pygments_lexer": "ipython3",
   "version": "3.6.6"
  },
  "notify_time": "10",
  "toc": {
   "base_numbering": 1,
   "nav_menu": {},
   "number_sections": true,
   "sideBar": true,
   "skip_h1_title": false,
   "title_cell": "Table of Contents",
   "title_sidebar": "Contents",
   "toc_cell": true,
   "toc_position": {
    "height": "calc(100% - 180px)",
    "left": "10px",
    "top": "150px",
    "width": "273.594px"
   },
   "toc_section_display": true,
   "toc_window_display": true
  }
 },
 "nbformat": 4,
 "nbformat_minor": 2
}
